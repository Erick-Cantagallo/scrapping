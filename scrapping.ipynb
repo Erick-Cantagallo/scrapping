{
 "cells": [
  {
   "cell_type": "code",
   "execution_count": 7,
   "metadata": {},
   "outputs": [],
   "source": [
    "import pandas\n",
    "import requests\n",
    "from bs4 import BeautifulSoup\n"
   ]
  },
  {
   "cell_type": "code",
   "execution_count": 8,
   "metadata": {},
   "outputs": [],
   "source": [
    "html = ''\n",
    "url = 'https://brickset.com/sets/year-2023'"
   ]
  },
  {
   "cell_type": "code",
   "execution_count": 9,
   "metadata": {},
   "outputs": [],
   "source": [
    "req = requests.get(url)\n",
    "html = req.text\n",
    "soup = BeautifulSoup(html, 'html.parser')"
   ]
  },
  {
   "cell_type": "code",
   "execution_count": 10,
   "metadata": {},
   "outputs": [],
   "source": [
    "kits_list = []\n",
    "for item in soup.find_all('article', attrs={'class' : 'set'}):\n",
    "    details = {\n",
    "        'title': item.find('div', attrs={'class' : 'meta'}).find('h1').text,\n",
    "        'image': item.find('img')['src'],\n",
    "        'partial_link': item.find('div', attrs={'class' : 'meta'}).find('a')['href']\n",
    "    }\n",
    "    kits_list.append(details)"
   ]
  },
  {
   "cell_type": "code",
   "execution_count": 11,
   "metadata": {},
   "outputs": [],
   "source": [
    "df_kits = pandas.DataFrame.from_dict(kits_list)\n",
    "df_kits.to_excel('./dados.xlsx', index=False)"
   ]
  }
 ],
 "metadata": {
  "kernelspec": {
   "display_name": "Python 3",
   "language": "python",
   "name": "python3"
  },
  "language_info": {
   "codemirror_mode": {
    "name": "ipython",
    "version": 3
   },
   "file_extension": ".py",
   "mimetype": "text/x-python",
   "name": "python",
   "nbconvert_exporter": "python",
   "pygments_lexer": "ipython3",
   "version": "3.10.8"
  }
 },
 "nbformat": 4,
 "nbformat_minor": 2
}
